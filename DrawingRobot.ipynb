{
  "nbformat": 4,
  "nbformat_minor": 0,
  "metadata": {
    "colab": {
      "name": "DrawingRobot.ipynb",
      "provenance": [],
      "collapsed_sections": []
    },
    "kernelspec": {
      "name": "python3",
      "display_name": "Python 3"
    }
  },
  "cells": [
    {
      "cell_type": "code",
      "metadata": {
        "id": "11F9P8nC0cVF",
        "colab_type": "code",
        "colab": {}
      },
      "source": [
        "import math\n",
        "def square(number):\n",
        "  return number*number"
      ],
      "execution_count": 5,
      "outputs": []
    },
    {
      "cell_type": "code",
      "metadata": {
        "id": "kLLytVXq1Njt",
        "colab_type": "code",
        "colab": {}
      },
      "source": [
        "def squareRoot(number):\n",
        "  return math.sqrt(number)"
      ],
      "execution_count": 7,
      "outputs": []
    },
    {
      "cell_type": "code",
      "metadata": {
        "id": "FpIe1Slt-4kH",
        "colab_type": "code",
        "colab": {
          "base_uri": "https://localhost:8080/",
          "height": 34
        },
        "outputId": "6efdf949-7bed-4a5e-881e-90c096d5cccc"
      },
      "source": [
        "PI = math.pi\n",
        "print (PI)"
      ],
      "execution_count": 11,
      "outputs": [
        {
          "output_type": "stream",
          "text": [
            "3.141592653589793\n"
          ],
          "name": "stdout"
        }
      ]
    },
    {
      "cell_type": "code",
      "metadata": {
        "id": "3F4VEuQlxcdj",
        "colab_type": "code",
        "colab": {}
      },
      "source": [
        "distanceBetweenPulleys = 0.43 #meter\n",
        "leftStringLengthFromMotorToPulley = 0.25 #meter\n",
        "rightStringLengthFromMotorToPulley = 0.26 #meter\n",
        "lengthFromMotorToCenterOfPencil = 0.075 #meter\n",
        "leftHypotneuse = leftStringLengthFromMotorToPulley + lengthFromMotorToCenterOfPencil\n",
        "rightHypotneuse = rightStringLengthFromMotorToPulley + lengthFromMotorToCenterOfPencil"
      ],
      "execution_count": 4,
      "outputs": []
    },
    {
      "cell_type": "code",
      "metadata": {
        "id": "6ZnGQzie0prt",
        "colab_type": "code",
        "colab": {
          "base_uri": "https://localhost:8080/",
          "height": 34
        },
        "outputId": "b6255fe8-b9eb-4fe1-c421-9eb39a93f843"
      },
      "source": [
        "xCoordinate = (square(distanceBetweenPulleys) + square(leftStringLengthFromMotorToPulley) - square(rightStringLengthFromMotorToPulley))/(2*distanceBetweenPulleys)\n",
        "yCoordinate = squareRoot(square(leftStringLengthFromMotorToPulley) - square(xCoordinate))\n",
        "print (xCoordinate, yCoordinate)"
      ],
      "execution_count": 9,
      "outputs": [
        {
          "output_type": "stream",
          "text": [
            "0.20906976744186043 0.1370760093590647\n"
          ],
          "name": "stdout"
        }
      ]
    },
    {
      "cell_type": "markdown",
      "metadata": {
        "id": "ow2Ey90-22Hr",
        "colab_type": "text"
      },
      "source": [
        "Drawing a circle of radius one and measuring the circumference that is the length of the enclosing **arc = 3.14 = PI**.\n",
        "\n",
        "No matter how big the circle when we measure the **circumference** and **diameter** & **divide** the circumference by the **diameter** it is always equal to the number **PI**.\n",
        "\n",
        "\n",
        "```\n",
        "Diameter = 2 * Radius\n",
        "Circumference = 2 * PI * Radius\n",
        "Circumference/(2*Radius) = PI\n",
        "```\n",
        "\n"
      ]
    },
    {
      "cell_type": "code",
      "metadata": {
        "id": "sqgMDo1B1-6C",
        "colab_type": "code",
        "colab": {
          "base_uri": "https://localhost:8080/",
          "height": 51
        },
        "outputId": "796a9ced-5234-461e-b67f-d19595286e92"
      },
      "source": [
        "numberOfCountsPerRotation = 1200\n",
        "numberOfCountsPerRadian = 1200 / (2 * PI)\n",
        "print (numberOfCountsPerRadian)\n",
        "percentPerRadian = numberOfCountsPerRadian/1200\n",
        "print (\"Percentage: \"+str(percentPerRadian))\n"
      ],
      "execution_count": 41,
      "outputs": [
        {
          "output_type": "stream",
          "text": [
            "190.9859317102744\n",
            "Percentage: 0.15915494309189535\n"
          ],
          "name": "stdout"
        }
      ]
    },
    {
      "cell_type": "code",
      "metadata": {
        "id": "bhDFzGQ-bXlI",
        "colab_type": "code",
        "colab": {
          "base_uri": "https://localhost:8080/",
          "height": 248
        },
        "outputId": "95776db5-28a0-451c-b6c3-b13bd9b70c0e"
      },
      "source": [
        "import matplotlib.pyplot as plt\n",
        "\n",
        "# Pie chart, where the slices will be ordered and plotted counter-clockwise:\n",
        "labels = str(round(numberOfCountsPerRadian))+' Counts/Radian', str(1200-round(numberOfCountsPerRadian))+' Remaining Counts'\n",
        "sizes = [percentPerRadian, 1-percentPerRadian]\n",
        "my_circle=plt.Circle( (0,0), 0.7, color='white')\n",
        "plt.pie(sizes, labels=labels, colors=['red','green'])\n",
        "p=plt.gcf()\n",
        "p.gca().add_artist(my_circle)\n",
        "plt.show()"
      ],
      "execution_count": 45,
      "outputs": [
        {
          "output_type": "display_data",
          "data": {
            "image/png": "[encoded data removed]",
            "text/plain": [
              "<Figure size 432x288 with 1 Axes>"
            ]
          },
          "metadata": {
            "tags": []
          }
        }
      ]
    },
    {
      "cell_type": "code",
      "metadata": {
        "id": "XnhZ__1s_w5k",
        "colab_type": "code",
        "colab": {
          "base_uri": "https://localhost:8080/",
          "height": 34
        },
        "outputId": "89a08766-6efc-4401-f27f-52123f3f3e52"
      },
      "source": [
        "countsOnLeftMotor = 9000\n",
        "countsOnRightMotor = 10000\n",
        "radiansMovedInLeftMotor = countsOnLeftMotor / numberOfCountsPerRadian\n",
        "radiansMovedInRightMotor = countsOnRightMotor / numberOfCountsPerRadian\n",
        "print(radiansMovedInLeftMotor, radiansMovedInRightMotor)"
      ],
      "execution_count": 13,
      "outputs": [
        {
          "output_type": "stream",
          "text": [
            "47.1238898038469 52.35987755982989\n"
          ],
          "name": "stdout"
        }
      ]
    },
    {
      "cell_type": "code",
      "metadata": {
        "id": "SvjPIvwcQw-z",
        "colab_type": "code",
        "colab": {
          "base_uri": "https://localhost:8080/",
          "height": 34
        },
        "outputId": "7293e1a2-15e8-4a93-e101-d4d1d4a7ed34"
      },
      "source": [
        "spoolRadius = 0.0045\n",
        "stringCoiledByLeftMotor = radiansMovedInLeftMotor * spoolRadius\n",
        "stringCoiledByRightMotor = radiansMovedInRightMotor * spoolRadius\n",
        "print(stringCoiledByLeftMotor, stringCoiledByRightMotor)"
      ],
      "execution_count": 14,
      "outputs": [
        {
          "output_type": "stream",
          "text": [
            "0.21205750411731103 0.23561944901923448\n"
          ],
          "name": "stdout"
        }
      ]
    },
    {
      "cell_type": "code",
      "metadata": {
        "id": "9CBtbRYvRwv8",
        "colab_type": "code",
        "colab": {
          "base_uri": "https://localhost:8080/",
          "height": 34
        },
        "outputId": "bf9a325b-8fc2-4b75-c858-c61c15ed89ba"
      },
      "source": [
        "leftDistanceMoved = stringCoiledByLeftMotor/2 #moving up or down takes twice string length due to the way it is setup\n",
        "rightDistanceMoved = stringCoiledByRightMotor/2\n",
        "print(leftDistanceMoved, rightDistanceMoved)"
      ],
      "execution_count": 15,
      "outputs": [
        {
          "output_type": "stream",
          "text": [
            "0.10602875205865551 0.11780972450961724\n"
          ],
          "name": "stdout"
        }
      ]
    },
    {
      "cell_type": "code",
      "metadata": {
        "id": "tZorsqFlScwn",
        "colab_type": "code",
        "colab": {
          "base_uri": "https://localhost:8080/",
          "height": 102
        },
        "outputId": "bb35c613-3fe8-4795-cc5c-866c0ee52b02"
      },
      "source": [
        "def motorMovementsToXAndYCoordinate(initialPosition, motorCounts):\n",
        "  distanceBetweenPulleys = 0.43\n",
        "  numberOfCountsPerRotation = 1200\n",
        "  numberOfCountsPerRadian = 1200 / (2 * PI)\n",
        "  spoolRadius = 0.0045\n",
        "  radiansMovedByMotor = [counts/numberOfCountsPerRadian for counts in motorCounts]\n",
        "  print (\"Radians Moved:\"+str(radiansMovedByMotor))\n",
        "  stringCoiledByMotor = [(radians*spoolRadius)/2 for radians in radiansMovedByMotor]\n",
        "  print (\"Coiled String on Spool:\"+str(stringCoiledByMotor))\n",
        "  distanceMovedAlongHypotneuse = [sum(distance) for distance in zip(initialPosition, stringCoiledByMotor)] \n",
        "  print (\"Movement along hypotneuse:\"+str(distanceMovedAlongHypotneuse))\n",
        "  xCoordinate = (square(distanceBetweenPulleys) + square(distanceMovedAlongHypotneuse[0]) - square(distanceMovedAlongHypotneuse[1]))/(2*distanceBetweenPulleys)\n",
        "  yCoordinate = squareRoot(square(distanceMovedAlongHypotneuse[0]) - square(xCoordinate))\n",
        "  newCoordinate = [xCoordinate, yCoordinate]\n",
        "  print (\"New Coordinate:\"+str(newCoordinate))\n",
        "  return newCoordinate\n",
        "\n",
        "motorMovementsToXAndYCoordinate([0.25 + 0.075, 0.26 + 0.075],[9000, 10000])"
      ],
      "execution_count": 27,
      "outputs": [
        {
          "output_type": "stream",
          "text": [
            "Radians Moved:[47.1238898038469, 52.35987755982989]\n",
            "Coiled String on Spool:[0.10602875205865551, 0.11780972450961724]\n",
            "Movement along hypotneuse:[0.43102875205865554, 0.45280972450961726]\n",
            "New Coordinate:[0.1926152773148447, 0.38559712141841435]\n"
          ],
          "name": "stdout"
        },
        {
          "output_type": "execute_result",
          "data": {
            "text/plain": [
              "[0.1926152773148447, 0.38559712141841435]"
            ]
          },
          "metadata": {
            "tags": []
          },
          "execution_count": 27
        }
      ]
    },
    {
      "cell_type": "code",
      "metadata": {
        "id": "gFo90zL0kxqz",
        "colab_type": "code",
        "colab": {
          "base_uri": "https://localhost:8080/",
          "height": 34
        },
        "outputId": "ec2746c8-d0bd-41a8-d05b-fa6e34b845c2"
      },
      "source": [
        "initialCoordinate = [0.1926152773148447, 0.38559712141841435]\n",
        "leftHypotneuse = squareRoot(square(initialCoordinate[0])+square(initialCoordinate[1]))\n",
        "rightHypotneuse = squareRoot(square(distanceBetweenPulleys - initialCoordinate[0]) + square(initialCoordinate[1]))\n",
        "newHypotneuse = [leftHypotneuse, rightHypotneuse]\n",
        "print (newHypotneuse)"
      ],
      "execution_count": 48,
      "outputs": [
        {
          "output_type": "stream",
          "text": [
            "[0.4310287520586555, 0.4528097245096172]\n"
          ],
          "name": "stdout"
        }
      ]
    },
    {
      "cell_type": "code",
      "metadata": {
        "id": "nd038P35l6By",
        "colab_type": "code",
        "colab": {
          "base_uri": "https://localhost:8080/",
          "height": 68
        },
        "outputId": "65716704-313f-442c-9ff3-4bf44bb48690"
      },
      "source": [
        "previousHypotnuese = [0.25 + 0.075, 0.26 + 0.075]\n",
        "distanceMovedAlongHypotneuse = [2*(distance[1] - distance[0]) for distance in zip(previousHypotnuese, newHypotneuse)] \n",
        "print (\"Movement along hypotneuse:\"+str(distanceMovedAlongHypotneuse))\n",
        "radiansMoved = [distance/spoolRadius for distance in distanceMovedAlongHypotneuse]\n",
        "print (\"Radians Moved:\"+str(radiansMoved))\n",
        "motorCounts =[round(radian*numberOfCountsPerRadian) for radian in radiansMoved]\n",
        "print(motorCounts)"
      ],
      "execution_count": 59,
      "outputs": [
        {
          "output_type": "stream",
          "text": [
            "Movement along hypotneuse:[0.21205750411731095, 0.23561944901923437]\n",
            "Radians Moved:[47.12388980384688, 52.35987755982986]\n",
            "[9000, 10000]\n"
          ],
          "name": "stdout"
        }
      ]
    }
  ]
}